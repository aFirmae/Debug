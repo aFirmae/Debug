{
 "cells": [
  {
   "cell_type": "code",
   "execution_count": 1,
   "id": "0128b788",
   "metadata": {},
   "outputs": [
    {
     "name": "stdout",
     "output_type": "stream",
     "text": [
      "Python\n"
     ]
    }
   ],
   "source": [
    "text = \"I love Python programming\"\n",
    "print(text[-18:-12])"
   ]
  },
  {
   "cell_type": "code",
   "execution_count": 1,
   "id": "7d061533",
   "metadata": {},
   "outputs": [
    {
     "name": "stdout",
     "output_type": "stream",
     "text": [
      "14\n",
      "10\n"
     ]
    }
   ],
   "source": [
    "string = 'mvqugvqhc2ndoi'\n",
    "print(len(string))\n",
    "print(string.find('n'))"
   ]
  },
  {
   "cell_type": "code",
   "execution_count": 2,
   "id": "a4e161d7",
   "metadata": {},
   "outputs": [
    {
     "name": "stdout",
     "output_type": "stream",
     "text": [
      "1,000,000\n"
     ]
    }
   ],
   "source": [
    "abc = \"1,000,000\"\n",
    "print(abc)"
   ]
  },
  {
   "cell_type": "code",
   "execution_count": 9,
   "id": "cfe27843",
   "metadata": {},
   "outputs": [
    {
     "name": "stdout",
     "output_type": "stream",
     "text": [
      "2\n"
     ]
    }
   ],
   "source": [
    "string = 'I love breaking bad'\n",
    "print(string.count(\"a\"))"
   ]
  },
  {
   "cell_type": "markdown",
   "id": "f2781198",
   "metadata": {},
   "source": [
    "## Exercise 1"
   ]
  },
  {
   "cell_type": "code",
   "execution_count": 10,
   "id": "7a2fb6aa",
   "metadata": {},
   "outputs": [
    {
     "name": "stdout",
     "output_type": "stream",
     "text": [
      "Message: bmaunmdbraai\n",
      "bandra mumbai\n"
     ]
    }
   ],
   "source": [
    "message = input(\"Message: \")\n",
    "\n",
    "message1 = message[::2]\n",
    "message2 = message[1::2]\n",
    "\n",
    "print(message1,message2)"
   ]
  },
  {
   "cell_type": "code",
   "execution_count": 2,
   "id": "29a2d147",
   "metadata": {},
   "outputs": [
    {
     "name": "stdout",
     "output_type": "stream",
     "text": [
      "()\n"
     ]
    }
   ],
   "source": [
    "t = (1, 2, 4, 3)\n",
    "print(t[1:-4])"
   ]
  },
  {
   "cell_type": "code",
   "execution_count": 8,
   "id": "da7d699e",
   "metadata": {},
   "outputs": [
    {
     "name": "stdout",
     "output_type": "stream",
     "text": [
      "<class 'tuple'>\n"
     ]
    }
   ],
   "source": [
    "x = 1,2\n",
    "print(type(x))"
   ]
  },
  {
   "cell_type": "code",
   "execution_count": 13,
   "id": "ee16fb33",
   "metadata": {
    "collapsed": true
   },
   "outputs": [
    {
     "name": "stdout",
     "output_type": "stream",
     "text": [
      "14.2\n",
      "2\n",
      "5\n"
     ]
    }
   ],
   "source": [
    "tuple = (2,3.2,4,5)\n",
    "print(sum(tuple))\n",
    "print(min(tuple))\n",
    "print(max(tuple))"
   ]
  },
  {
   "cell_type": "code",
   "execution_count": 12,
   "id": "7b618bc7",
   "metadata": {},
   "outputs": [
    {
     "name": "stdout",
     "output_type": "stream",
     "text": [
      "[2, 3.2, 4, 5]\n"
     ]
    }
   ],
   "source": [
    "list = list(tuple)\n",
    "print(list)"
   ]
  },
  {
   "cell_type": "code",
   "execution_count": 14,
   "id": "58a097b5",
   "metadata": {},
   "outputs": [
    {
     "name": "stdout",
     "output_type": "stream",
     "text": [
      "J\n"
     ]
    }
   ],
   "source": [
    "t = (1,5,\"Disco\", (\"Python\", \"Java\"))\n",
    "print(t[3][1][0])"
   ]
  },
  {
   "cell_type": "code",
   "execution_count": 21,
   "id": "7877bc03",
   "metadata": {},
   "outputs": [
    {
     "name": "stdout",
     "output_type": "stream",
     "text": [
      "['apple', 'banana', 'pineapple']\n"
     ]
    }
   ],
   "source": [
    "fruits = [\"apple\", \"banana\"]\n",
    "fruits.append(\"pineapple\")\n",
    "print(fruits)"
   ]
  },
  {
   "cell_type": "code",
   "execution_count": 24,
   "id": "93a68546",
   "metadata": {},
   "outputs": [
    {
     "name": "stdout",
     "output_type": "stream",
     "text": [
      "Input: Pyhton\n",
      "('Monty Python', 'British', 1969, 'Pyhton')\n"
     ]
    }
   ],
   "source": [
    "input_tuple = ('Monty Python', 'British', 1969)\n",
    "input_str = input(\"Input: \")\n",
    "input_tuple += input_str,\n",
    "tuple_2 = input_tuple\n",
    "print(tuple_2)"
   ]
  },
  {
   "cell_type": "code",
   "execution_count": 28,
   "id": "68cf7e01",
   "metadata": {},
   "outputs": [
    {
     "name": "stdout",
     "output_type": "stream",
     "text": [
      "('Monty Python', 'British', 1969, 'Python')\n"
     ]
    }
   ],
   "source": [
    "def add_element_to_tuple(input_tuple):\n",
    "    input_tuple += ('Python',)\n",
    "    return input_tuple\n",
    "\n",
    "input_tuple = ('Monty Python', 'British', 1969)\n",
    "new_tuple = add_element_to_tuple(input_tuple)\n",
    "print(new_tuple)\n"
   ]
  },
  {
   "cell_type": "code",
   "execution_count": 30,
   "id": "193cd929",
   "metadata": {},
   "outputs": [
    {
     "name": "stdout",
     "output_type": "stream",
     "text": [
      "2\n"
     ]
    }
   ],
   "source": [
    "list_1 = [2, 33, 222, 14, 25]\n",
    "print(list_1[-5])"
   ]
  },
  {
   "cell_type": "code",
   "execution_count": 31,
   "id": "3a327935",
   "metadata": {},
   "outputs": [
    {
     "name": "stdout",
     "output_type": "stream",
     "text": [
      "[]\n"
     ]
    }
   ],
   "source": [
    "word = ['1','2','3','4']\n",
    "word[ : ] = [ ] \n",
    "print(word)"
   ]
  },
  {
   "cell_type": "code",
   "execution_count": 32,
   "id": "ea42cd99",
   "metadata": {},
   "outputs": [
    {
     "name": "stdout",
     "output_type": "stream",
     "text": [
      "['five', 'four', 'one', 'six', 'three', 'two']\n",
      "['one', 'two', 'three', 'four', 'five', 'six']\n"
     ]
    }
   ],
   "source": [
    "L = ['one','two','three', 'four', 'five', 'six']\n",
    "print(sorted(L))\n",
    "print (L)"
   ]
  },
  {
   "cell_type": "code",
   "execution_count": 1,
   "id": "5abb3ae5",
   "metadata": {},
   "outputs": [
    {
     "name": "stdout",
     "output_type": "stream",
     "text": [
      "4\n"
     ]
    }
   ],
   "source": [
    "nums = set([1,1,2,3,3,3,4])\n",
    "print(len(nums))"
   ]
  },
  {
   "cell_type": "markdown",
   "id": "36f580c7",
   "metadata": {},
   "source": [
    "## List Comprehensions"
   ]
  },
  {
   "cell_type": "code",
   "execution_count": 9,
   "id": "7c740968",
   "metadata": {},
   "outputs": [
    {
     "name": "stdout",
     "output_type": "stream",
     "text": [
      "[11, 5, 4, 6, 14]\n",
      "[11, 5, 4, 6, 14]\n"
     ]
    }
   ],
   "source": [
    "cars = [\"automobiles\", \"Honda\", \"Benz\", \"Suzuki\", \"Morris Garages\" ]\n",
    "l2 = []\n",
    "\n",
    "for car in cars :\n",
    "    l2.append(len(car))\n",
    "print(l2)\n",
    "\n",
    "# Using List Comprehension\n",
    "l2 = [len(car) for car in cars]\n",
    "print(l2)"
   ]
  },
  {
   "cell_type": "code",
   "execution_count": null,
   "id": "05bdb496",
   "metadata": {},
   "outputs": [],
   "source": []
  }
 ],
 "metadata": {
  "kernelspec": {
   "display_name": "Python 3 (ipykernel)",
   "language": "python",
   "name": "python3"
  },
  "language_info": {
   "codemirror_mode": {
    "name": "ipython",
    "version": 3
   },
   "file_extension": ".py",
   "mimetype": "text/x-python",
   "name": "python",
   "nbconvert_exporter": "python",
   "pygments_lexer": "ipython3",
   "version": "3.11.3"
  }
 },
 "nbformat": 4,
 "nbformat_minor": 5
}
